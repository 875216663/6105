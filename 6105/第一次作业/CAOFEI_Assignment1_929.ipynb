{
 "cells": [
  {
   "cell_type": "markdown",
   "id": "b28eae36-a8a4-48c3-a751-9bc4de951766",
   "metadata": {},
   "source": [
    "## MIT License\n",
    "\n",
    "Copyright (c) 2022 Cao Fei\n",
    "\n",
    "Permission is hereby granted, free of charge, to any person obtaining a copy of this software and associated documentation files (the \"Software\"), to deal in the Software without restriction, including without limitation the rights to use, copy, modify, merge, publish, distribute, sublicense, and/or sell copies of the Software, and to permit persons to whom the Software is furnished to do so, subject to the following conditions:\n",
    "\n",
    "The above copyright notice and this permission notice shall be included in all copies or substantial portions of the Software.\n",
    "\n",
    "THE SOFTWARE IS PROVIDED \"AS IS\", WITHOUT WARRANTY OF ANY KIND, EXPRESS OR IMPLIED, INCLUDING BUT NOT LIMITED TO THE WARRANTIES OF MERCHANTABILITY, FITNESS FOR A PARTICULAR PURPOSE, AND NONINFRINGEMENT. IN NO EVENT SHALL THE AUTHORS OR COPYRIGHT HOLDERS BE LIABLE FOR ANY CLAIM, DAMAGES OR OTHER LIABILITY, WHETHER IN AN ACTION OF CONTRACT, TORT OR OTHERWISE, ARISING FROM, OUT OF OR IN CONNECTION WITH THE SOFTWARE OR THE USE OR OTHER DEALINGS IN THE SOFTWARE."
   ]
  },
  {
   "cell_type": "code",
   "execution_count": 7,
   "id": "bb217344-07bb-4cf0-83ba-c8c3d2c106a3",
   "metadata": {},
   "outputs": [],
   "source": [
    "#importing the necessary libraries\n",
    "import pandas as pd\n",
    "import numpy as np\n",
    "import matplotlib.pyplot as plt\n",
    "%matplotlib inline\n",
    "import seaborn as sn\n",
    "import warnings\n",
    "warnings.filterwarnings('ignore')"
   ]
  },
  {
   "cell_type": "code",
   "execution_count": 106,
   "id": "3ba55657-aba2-4c93-9403-e6c344a48f12",
   "metadata": {},
   "outputs": [],
   "source": [
    "#importing the diabetes dataset\n",
    "df = pd.read_csv('https://raw.githubusercontent.com/875216663/6105/main/diabetes_prediction_dataset.csv')"
   ]
  },
  {
   "cell_type": "code",
   "execution_count": 12,
   "id": "de4fd449-5311-4d3d-80d0-0b2a777df480",
   "metadata": {},
   "outputs": [
    {
     "data": {
      "text/html": [
       "<div>\n",
       "<style scoped>\n",
       "    .dataframe tbody tr th:only-of-type {\n",
       "        vertical-align: middle;\n",
       "    }\n",
       "\n",
       "    .dataframe tbody tr th {\n",
       "        vertical-align: top;\n",
       "    }\n",
       "\n",
       "    .dataframe thead th {\n",
       "        text-align: right;\n",
       "    }\n",
       "</style>\n",
       "<table border=\"1\" class=\"dataframe\">\n",
       "  <thead>\n",
       "    <tr style=\"text-align: right;\">\n",
       "      <th></th>\n",
       "      <th>gender</th>\n",
       "      <th>age</th>\n",
       "      <th>hypertension</th>\n",
       "      <th>heart_disease</th>\n",
       "      <th>smoking_history</th>\n",
       "      <th>bmi</th>\n",
       "      <th>HbA1c_level</th>\n",
       "      <th>blood_glucose_level</th>\n",
       "      <th>diabetes</th>\n",
       "    </tr>\n",
       "  </thead>\n",
       "  <tbody>\n",
       "    <tr>\n",
       "      <th>0</th>\n",
       "      <td>Female</td>\n",
       "      <td>80.0</td>\n",
       "      <td>0</td>\n",
       "      <td>1</td>\n",
       "      <td>never</td>\n",
       "      <td>25.19</td>\n",
       "      <td>6.6</td>\n",
       "      <td>140</td>\n",
       "      <td>0</td>\n",
       "    </tr>\n",
       "    <tr>\n",
       "      <th>1</th>\n",
       "      <td>Female</td>\n",
       "      <td>54.0</td>\n",
       "      <td>0</td>\n",
       "      <td>0</td>\n",
       "      <td>No Info</td>\n",
       "      <td>27.32</td>\n",
       "      <td>6.6</td>\n",
       "      <td>80</td>\n",
       "      <td>0</td>\n",
       "    </tr>\n",
       "    <tr>\n",
       "      <th>2</th>\n",
       "      <td>Male</td>\n",
       "      <td>28.0</td>\n",
       "      <td>0</td>\n",
       "      <td>0</td>\n",
       "      <td>never</td>\n",
       "      <td>27.32</td>\n",
       "      <td>5.7</td>\n",
       "      <td>158</td>\n",
       "      <td>0</td>\n",
       "    </tr>\n",
       "    <tr>\n",
       "      <th>3</th>\n",
       "      <td>Female</td>\n",
       "      <td>36.0</td>\n",
       "      <td>0</td>\n",
       "      <td>0</td>\n",
       "      <td>current</td>\n",
       "      <td>23.45</td>\n",
       "      <td>5.0</td>\n",
       "      <td>155</td>\n",
       "      <td>0</td>\n",
       "    </tr>\n",
       "    <tr>\n",
       "      <th>4</th>\n",
       "      <td>Male</td>\n",
       "      <td>76.0</td>\n",
       "      <td>1</td>\n",
       "      <td>1</td>\n",
       "      <td>current</td>\n",
       "      <td>20.14</td>\n",
       "      <td>4.8</td>\n",
       "      <td>155</td>\n",
       "      <td>0</td>\n",
       "    </tr>\n",
       "    <tr>\n",
       "      <th>...</th>\n",
       "      <td>...</td>\n",
       "      <td>...</td>\n",
       "      <td>...</td>\n",
       "      <td>...</td>\n",
       "      <td>...</td>\n",
       "      <td>...</td>\n",
       "      <td>...</td>\n",
       "      <td>...</td>\n",
       "      <td>...</td>\n",
       "    </tr>\n",
       "    <tr>\n",
       "      <th>99995</th>\n",
       "      <td>Female</td>\n",
       "      <td>80.0</td>\n",
       "      <td>0</td>\n",
       "      <td>0</td>\n",
       "      <td>No Info</td>\n",
       "      <td>27.32</td>\n",
       "      <td>6.2</td>\n",
       "      <td>90</td>\n",
       "      <td>0</td>\n",
       "    </tr>\n",
       "    <tr>\n",
       "      <th>99996</th>\n",
       "      <td>Female</td>\n",
       "      <td>2.0</td>\n",
       "      <td>0</td>\n",
       "      <td>0</td>\n",
       "      <td>No Info</td>\n",
       "      <td>17.37</td>\n",
       "      <td>6.5</td>\n",
       "      <td>100</td>\n",
       "      <td>0</td>\n",
       "    </tr>\n",
       "    <tr>\n",
       "      <th>99997</th>\n",
       "      <td>Male</td>\n",
       "      <td>66.0</td>\n",
       "      <td>0</td>\n",
       "      <td>0</td>\n",
       "      <td>former</td>\n",
       "      <td>27.83</td>\n",
       "      <td>5.7</td>\n",
       "      <td>155</td>\n",
       "      <td>0</td>\n",
       "    </tr>\n",
       "    <tr>\n",
       "      <th>99998</th>\n",
       "      <td>Female</td>\n",
       "      <td>24.0</td>\n",
       "      <td>0</td>\n",
       "      <td>0</td>\n",
       "      <td>never</td>\n",
       "      <td>35.42</td>\n",
       "      <td>4.0</td>\n",
       "      <td>100</td>\n",
       "      <td>0</td>\n",
       "    </tr>\n",
       "    <tr>\n",
       "      <th>99999</th>\n",
       "      <td>Female</td>\n",
       "      <td>57.0</td>\n",
       "      <td>0</td>\n",
       "      <td>0</td>\n",
       "      <td>current</td>\n",
       "      <td>22.43</td>\n",
       "      <td>6.6</td>\n",
       "      <td>90</td>\n",
       "      <td>0</td>\n",
       "    </tr>\n",
       "  </tbody>\n",
       "</table>\n",
       "<p>100000 rows × 9 columns</p>\n",
       "</div>"
      ],
      "text/plain": [
       "       gender   age  hypertension  heart_disease smoking_history    bmi  \\\n",
       "0      Female  80.0             0              1           never  25.19   \n",
       "1      Female  54.0             0              0         No Info  27.32   \n",
       "2        Male  28.0             0              0           never  27.32   \n",
       "3      Female  36.0             0              0         current  23.45   \n",
       "4        Male  76.0             1              1         current  20.14   \n",
       "...       ...   ...           ...            ...             ...    ...   \n",
       "99995  Female  80.0             0              0         No Info  27.32   \n",
       "99996  Female   2.0             0              0         No Info  17.37   \n",
       "99997    Male  66.0             0              0          former  27.83   \n",
       "99998  Female  24.0             0              0           never  35.42   \n",
       "99999  Female  57.0             0              0         current  22.43   \n",
       "\n",
       "       HbA1c_level  blood_glucose_level  diabetes  \n",
       "0              6.6                  140         0  \n",
       "1              6.6                   80         0  \n",
       "2              5.7                  158         0  \n",
       "3              5.0                  155         0  \n",
       "4              4.8                  155         0  \n",
       "...            ...                  ...       ...  \n",
       "99995          6.2                   90         0  \n",
       "99996          6.5                  100         0  \n",
       "99997          5.7                  155         0  \n",
       "99998          4.0                  100         0  \n",
       "99999          6.6                   90         0  \n",
       "\n",
       "[100000 rows x 9 columns]"
      ]
     },
     "execution_count": 12,
     "metadata": {},
     "output_type": "execute_result"
    }
   ],
   "source": [
    "df"
   ]
  },
  {
   "cell_type": "markdown",
   "id": "12f36e0a-a475-4b97-95fc-8a7c858903d8",
   "metadata": {},
   "source": [
    "## View data types"
   ]
  },
  {
   "cell_type": "code",
   "execution_count": 19,
   "id": "45d099fa-7ad3-4447-aefa-24f23262be9a",
   "metadata": {},
   "outputs": [
    {
     "data": {
      "text/plain": [
       "gender                  object\n",
       "age                    float64\n",
       "hypertension             int64\n",
       "heart_disease            int64\n",
       "smoking_history         object\n",
       "bmi                    float64\n",
       "HbA1c_level            float64\n",
       "blood_glucose_level      int64\n",
       "diabetes                 int64\n",
       "dtype: object"
      ]
     },
     "execution_count": 19,
     "metadata": {},
     "output_type": "execute_result"
    }
   ],
   "source": [
    "df.dtypes"
   ]
  },
  {
   "cell_type": "markdown",
   "id": "f04c1114-c651-4011-9ce4-789532c3caf7",
   "metadata": {},
   "source": [
    "## **Question 1:-** What are the data types? (Only numeric and categorical)"
   ]
  },
  {
   "cell_type": "markdown",
   "id": "f46f0f48-4b96-435e-8779-ba0ca10feae7",
   "metadata": {},
   "source": [
    "Numeric columns: age, bmi, HbA1c_level, blood_glucose_level\n",
    "\n",
    "Categorical columns: gender, hypertension, heart_disease, smoking_history, diabetes"
   ]
  },
  {
   "cell_type": "markdown",
   "id": "6d98bd21-86cf-411e-9ee5-86ea5e8b990a",
   "metadata": {},
   "source": [
    "## **Question 6:-** Do the training and test sets have the same data? "
   ]
  },
  {
   "cell_type": "code",
   "execution_count": 88,
   "id": "452f8bad-ebae-4212-8353-744fa3c34422",
   "metadata": {},
   "outputs": [
    {
     "name": "stdout",
     "output_type": "stream",
     "text": [
      "The training and test sets have the same data\n"
     ]
    }
   ],
   "source": [
    "import pandas as pd\n",
    "from sklearn.model_selection import train_test_split\n",
    "\n",
    "# 1. 读取数据 read data\n",
    "df = pd.read_csv('https://raw.githubusercontent.com/875216663/6105/main/diabetes_prediction_dataset.csv')\n",
    "\n",
    "# 2. 分割数据为训练集和测试集 Split the data into training and test sets\n",
    "train_df, test_df = train_test_split(df, test_size=0.2, random_state=7)  # 例如，我们将20%的数据作为测试集\n",
    "\n",
    "# 3. 检查训练集和测试集是否有重复的行 Check for duplicate rows in the training and test sets\n",
    "common = pd.merge(train_df, test_df, how='inner')\n",
    "if common.empty:\n",
    "    print(\"The training and test sets do not have the same data\")\n",
    "else:\n",
    "    print(\"The training and test sets have the same data\")"
   ]
  },
  {
   "cell_type": "markdown",
   "id": "64eb30f6-3226-4aa8-a35e-d7f795c4eb54",
   "metadata": {},
   "source": [
    "## Answer\n",
    "Splits the dataset into an 80% training set and a 20% test set. It then compares the rows between these two subsets to find any duplicates. If it finds duplicates, it prints a message telling you that there are duplicates in the training and test sets. Otherwise, it will tell you that the two data sets do not have the same data. The result is that there are duplicates"
   ]
  },
  {
   "cell_type": "code",
   "execution_count": 16,
   "id": "53133713-eb58-4d66-b10b-47f342efc9e6",
   "metadata": {},
   "outputs": [
    {
     "name": "stdout",
     "output_type": "stream",
     "text": [
      "Shape of Training data is = (80000, 9)\n",
      "Shape of Test data is = (20000, 9)\n"
     ]
    }
   ],
   "source": [
    "# Shape of Training and Testing Data\n",
    "print(\"Shape of Training data is = \" + str(train_df.shape))\n",
    "print(\"Shape of Test data is = \" + str(test_df.shape))"
   ]
  },
  {
   "cell_type": "markdown",
   "id": "acd64a80-9303-4c66-8539-b4de82dd6aaf",
   "metadata": {},
   "source": [
    "## **Question 9:-**  Do the ranges of the predictor variables make sense?"
   ]
  },
  {
   "cell_type": "code",
   "execution_count": 17,
   "id": "c8417960-7c92-48f8-b2cf-863c6387761c",
   "metadata": {},
   "outputs": [
    {
     "data": {
      "text/html": [
       "<div>\n",
       "<style scoped>\n",
       "    .dataframe tbody tr th:only-of-type {\n",
       "        vertical-align: middle;\n",
       "    }\n",
       "\n",
       "    .dataframe tbody tr th {\n",
       "        vertical-align: top;\n",
       "    }\n",
       "\n",
       "    .dataframe thead th {\n",
       "        text-align: right;\n",
       "    }\n",
       "</style>\n",
       "<table border=\"1\" class=\"dataframe\">\n",
       "  <thead>\n",
       "    <tr style=\"text-align: right;\">\n",
       "      <th></th>\n",
       "      <th>age</th>\n",
       "      <th>hypertension</th>\n",
       "      <th>heart_disease</th>\n",
       "      <th>bmi</th>\n",
       "      <th>HbA1c_level</th>\n",
       "      <th>blood_glucose_level</th>\n",
       "      <th>diabetes</th>\n",
       "    </tr>\n",
       "  </thead>\n",
       "  <tbody>\n",
       "    <tr>\n",
       "      <th>count</th>\n",
       "      <td>80000.000000</td>\n",
       "      <td>80000.000000</td>\n",
       "      <td>80000.000000</td>\n",
       "      <td>80000.000000</td>\n",
       "      <td>80000.000000</td>\n",
       "      <td>80000.000000</td>\n",
       "      <td>80000.000000</td>\n",
       "    </tr>\n",
       "    <tr>\n",
       "      <th>mean</th>\n",
       "      <td>41.845069</td>\n",
       "      <td>0.074850</td>\n",
       "      <td>0.039038</td>\n",
       "      <td>27.334482</td>\n",
       "      <td>5.531122</td>\n",
       "      <td>138.043088</td>\n",
       "      <td>0.085250</td>\n",
       "    </tr>\n",
       "    <tr>\n",
       "      <th>std</th>\n",
       "      <td>22.513881</td>\n",
       "      <td>0.263151</td>\n",
       "      <td>0.193685</td>\n",
       "      <td>6.636435</td>\n",
       "      <td>1.069190</td>\n",
       "      <td>40.821588</td>\n",
       "      <td>0.279255</td>\n",
       "    </tr>\n",
       "    <tr>\n",
       "      <th>min</th>\n",
       "      <td>0.080000</td>\n",
       "      <td>0.000000</td>\n",
       "      <td>0.000000</td>\n",
       "      <td>10.010000</td>\n",
       "      <td>3.500000</td>\n",
       "      <td>80.000000</td>\n",
       "      <td>0.000000</td>\n",
       "    </tr>\n",
       "    <tr>\n",
       "      <th>25%</th>\n",
       "      <td>24.000000</td>\n",
       "      <td>0.000000</td>\n",
       "      <td>0.000000</td>\n",
       "      <td>23.650000</td>\n",
       "      <td>4.800000</td>\n",
       "      <td>100.000000</td>\n",
       "      <td>0.000000</td>\n",
       "    </tr>\n",
       "    <tr>\n",
       "      <th>50%</th>\n",
       "      <td>43.000000</td>\n",
       "      <td>0.000000</td>\n",
       "      <td>0.000000</td>\n",
       "      <td>27.320000</td>\n",
       "      <td>5.800000</td>\n",
       "      <td>140.000000</td>\n",
       "      <td>0.000000</td>\n",
       "    </tr>\n",
       "    <tr>\n",
       "      <th>75%</th>\n",
       "      <td>59.000000</td>\n",
       "      <td>0.000000</td>\n",
       "      <td>0.000000</td>\n",
       "      <td>29.630000</td>\n",
       "      <td>6.200000</td>\n",
       "      <td>159.000000</td>\n",
       "      <td>0.000000</td>\n",
       "    </tr>\n",
       "    <tr>\n",
       "      <th>max</th>\n",
       "      <td>80.000000</td>\n",
       "      <td>1.000000</td>\n",
       "      <td>1.000000</td>\n",
       "      <td>95.690000</td>\n",
       "      <td>9.000000</td>\n",
       "      <td>300.000000</td>\n",
       "      <td>1.000000</td>\n",
       "    </tr>\n",
       "  </tbody>\n",
       "</table>\n",
       "</div>"
      ],
      "text/plain": [
       "                age  hypertension  heart_disease           bmi   HbA1c_level  \\\n",
       "count  80000.000000  80000.000000   80000.000000  80000.000000  80000.000000   \n",
       "mean      41.845069      0.074850       0.039038     27.334482      5.531122   \n",
       "std       22.513881      0.263151       0.193685      6.636435      1.069190   \n",
       "min        0.080000      0.000000       0.000000     10.010000      3.500000   \n",
       "25%       24.000000      0.000000       0.000000     23.650000      4.800000   \n",
       "50%       43.000000      0.000000       0.000000     27.320000      5.800000   \n",
       "75%       59.000000      0.000000       0.000000     29.630000      6.200000   \n",
       "max       80.000000      1.000000       1.000000     95.690000      9.000000   \n",
       "\n",
       "       blood_glucose_level      diabetes  \n",
       "count         80000.000000  80000.000000  \n",
       "mean            138.043088      0.085250  \n",
       "std              40.821588      0.279255  \n",
       "min              80.000000      0.000000  \n",
       "25%             100.000000      0.000000  \n",
       "50%             140.000000      0.000000  \n",
       "75%             159.000000      0.000000  \n",
       "max             300.000000      1.000000  "
      ]
     },
     "execution_count": 17,
     "metadata": {},
     "output_type": "execute_result"
    }
   ],
   "source": [
    "# Statistical Summary of Training Dataset\n",
    "train_df.describe()"
   ]
  },
  {
   "cell_type": "markdown",
   "id": "5c794ab7-bc4c-4153-b384-fa0bb52c5dd7",
   "metadata": {},
   "source": [
    "## Answer\n",
    "\n",
    "After analyzing each variable in the dataset, we found that the range of values for most of the predictor variables was reasonable. For example, the data for the variables of age, hypertension, heart disease, and diabetes were all as expected. However, there were suspected outliers in some of the data for BMI, particularly the extreme minimum and maximum values, which may require further validation to ensure their accuracy."
   ]
  },
  {
   "cell_type": "code",
   "execution_count": 18,
   "id": "cca4f8ae-c4e7-4c9d-bb07-4d74ea2a1622",
   "metadata": {},
   "outputs": [
    {
     "data": {
      "text/plain": [
       "gender                  object\n",
       "age                    float64\n",
       "hypertension             int64\n",
       "heart_disease            int64\n",
       "smoking_history         object\n",
       "bmi                    float64\n",
       "HbA1c_level            float64\n",
       "blood_glucose_level      int64\n",
       "diabetes                 int64\n",
       "dtype: object"
      ]
     },
     "execution_count": 18,
     "metadata": {},
     "output_type": "execute_result"
    }
   ],
   "source": [
    "train_df.dtypes"
   ]
  },
  {
   "cell_type": "markdown",
   "id": "3c543a0e-2a63-442a-a281-16d28dda5033",
   "metadata": {},
   "source": [
    "##  **Question 2 :-**- Are there missing values? "
   ]
  },
  {
   "cell_type": "code",
   "execution_count": 32,
   "id": "0841740c-7c2b-459e-b980-1db3efbdc43e",
   "metadata": {},
   "outputs": [
    {
     "name": "stdout",
     "output_type": "stream",
     "text": [
      "gender                 0\n",
      "age                    0\n",
      "hypertension           0\n",
      "heart_disease          0\n",
      "smoking_history        0\n",
      "bmi                    0\n",
      "HbA1c_level            0\n",
      "blood_glucose_level    0\n",
      "diabetes               0\n",
      "dtype: int64\n"
     ]
    }
   ],
   "source": [
    "# Missing Values in Training Data\n",
    "print(train_df.isnull().sum())"
   ]
  },
  {
   "cell_type": "code",
   "execution_count": 33,
   "id": "96984c31-74b7-4cef-8617-ff1d34a83cb5",
   "metadata": {},
   "outputs": [
    {
     "name": "stdout",
     "output_type": "stream",
     "text": [
      "gender                 0\n",
      "age                    0\n",
      "hypertension           0\n",
      "heart_disease          0\n",
      "smoking_history        0\n",
      "bmi                    0\n",
      "HbA1c_level            0\n",
      "blood_glucose_level    0\n",
      "diabetes               0\n",
      "dtype: int64\n"
     ]
    }
   ],
   "source": [
    "# Missing Values in Testing Data\n",
    "print(test_df.isnull().sum())"
   ]
  },
  {
   "cell_type": "markdown",
   "id": "509305fd-2ada-48a2-a260-f71d0ecb196d",
   "metadata": {},
   "source": [
    "## **Answer 2**\n",
    ":- No, the training and testing data do not have any missing values"
   ]
  },
  {
   "cell_type": "markdown",
   "id": "502e9eaf-27e4-40f9-9c02-88bcb689da06",
   "metadata": {},
   "source": [
    "##  **Question 5:-** Which independent variable have missing data? How much? "
   ]
  },
  {
   "cell_type": "markdown",
   "id": "dac00988-9ea4-4814-8fef-78e36630c541",
   "metadata": {},
   "source": [
    "df.isnull().sum()"
   ]
  },
  {
   "cell_type": "code",
   "execution_count": 90,
   "id": "3464b5df-32ff-4ea2-b8c9-6e307a8bf49b",
   "metadata": {},
   "outputs": [
    {
     "name": "stdout",
     "output_type": "stream",
     "text": [
      "gender                     0\n",
      "age                        0\n",
      "hypertension               0\n",
      "heart_disease              0\n",
      "smoking_history         9936\n",
      "bmi                    10177\n",
      "HbA1c_level                0\n",
      "blood_glucose_level     9887\n",
      "diabetes                   0\n",
      "dtype: int64\n"
     ]
    }
   ],
   "source": [
    "import pandas as pd\n",
    "import numpy as np\n",
    "import random\n",
    "\n",
    "data = pd.read_csv('https://raw.githubusercontent.com/875216663/6105/main/diabetes_prediction_dataset.csv')\n",
    "\n",
    "np.random.seed(42)  \n",
    "data_with_na = data.copy()\n",
    "\n",
    "# 指定要添加缺失值的列\n",
    "columns_to_modify = ['smoking_history', 'bmi', 'blood_glucose_level']\n",
    "\n",
    "ix = [(row, data.columns.get_loc(col)) for col in columns_to_modify for row in range(data.shape[0])]\n",
    "for row, col in random.sample(ix, int(round(.1*len(ix)))):\n",
    "    data_with_na.iat[row, col] = np.nan\n",
    "\n",
    "print(data_with_na.isnull().sum())\n"
   ]
  },
  {
   "cell_type": "code",
   "execution_count": 37,
   "id": "2e3ac979-af4c-45ab-a39a-134859e5dc74",
   "metadata": {},
   "outputs": [
    {
     "name": "stdout",
     "output_type": "stream",
     "text": [
      "Percent of Missing Data in Data smoking_history Column = 10.112 %\n",
      "Percent of Missing Data in Data bmi Column = 9.937 %\n",
      "Percent of Missing Data in Data blood_glucose_level Column = 9.951 %\n"
     ]
    }
   ],
   "source": [
    "# % of missing data in your dataset\n",
    "print(\n",
    "    \"Percent of Missing Data in Data smoking_history Column = \"\n",
    "    + str((data_with_na[\"smoking_history\"].isnull().sum() / len(data_with_na)) * 100)\n",
    "    + \" %\"\n",
    ")\n",
    "print(\n",
    "    \"Percent of Missing Data in Data bmi Column = \"\n",
    "    + str((data_with_na[\"bmi\"].isnull().sum() / len(data_with_na)) * 100)\n",
    "    + \" %\"\n",
    ")\n",
    "print(\n",
    "    \"Percent of Missing Data in Data blood_glucose_level Column = \"\n",
    "    + str((data_with_na[\"blood_glucose_level\"].isnull().sum() / len(data_with_na)) * 100)\n",
    "    + \" %\"\n",
    ")\n"
   ]
  },
  {
   "cell_type": "markdown",
   "id": "9fc2e6e3-624f-4bbc-9c2c-bc825b875eb0",
   "metadata": {},
   "source": [
    "## **Answer 2**\n",
    "Originally there were no missing values in the data, but depending on the situation, I wrote some cases where there might be missing data and added the missing to the data\n",
    "In the dataset, the columns smoking_history, bmi, and blood_glucose_level have missing data percentages of 10.112%, 9.937%, and 9.951% respectively."
   ]
  },
  {
   "cell_type": "markdown",
   "id": "6cd35643-8845-480a-aaa3-1fa0ddcf858b",
   "metadata": {},
   "source": [
    "## **Question 3:-** :- What are the likely distributions of the numeric variables?     "
   ]
  },
  {
   "cell_type": "code",
   "execution_count": 15,
   "id": "592f535c-b25a-4343-8981-b42e0a38b487",
   "metadata": {},
   "outputs": [],
   "source": [
    "from sklearn.model_selection import train_test_split\n",
    "train_df, test_df = train_test_split(data, test_size=0.2, random_state=7)"
   ]
  },
  {
   "cell_type": "code",
   "execution_count": 16,
   "id": "093f9908-045c-464f-8495-ef098b830163",
   "metadata": {},
   "outputs": [
    {
     "data": {
      "image/png": "[encoded data removed]",
      "text/plain": [
       "<Figure size 1000x1000 with 4 Axes>"
      ]
     },
     "metadata": {},
     "output_type": "display_data"
    }
   ],
   "source": [
    "import matplotlib.pyplot as plt\n",
    "train_df[['age', 'bmi', 'HbA1c_level', 'blood_glucose_level']].hist(figsize=(10,10))\n",
    "plt.show()"
   ]
  },
  {
   "cell_type": "code",
   "execution_count": 17,
   "id": "3ff04b84-7dfb-4aa0-a08f-62c5099a0012",
   "metadata": {},
   "outputs": [
    {
     "data": {
      "image/png": "[encoded data removed]",
      "text/plain": [
       "<Figure size 640x480 with 1 Axes>"
      ]
     },
     "metadata": {},
     "output_type": "display_data"
    }
   ],
   "source": [
    "train_df[['age', 'bmi', 'HbA1c_level', 'blood_glucose_level']].boxplot()\n",
    "plt.show()"
   ]
  },
  {
   "cell_type": "markdown",
   "id": "66ec4c68-995b-46f9-a6d0-873c49f537e6",
   "metadata": {},
   "source": [
    "## Answer:"
   ]
  },
  {
   "cell_type": "raw",
   "id": "222c06d9-be4d-4e9e-bd9e-3974242bc73e",
   "metadata": {},
   "source": [
    "From the above graphs, it can be seen that for age - The distribution is more likely to be Uniform Distributions\n",
    "BMI - The distribution is more likely to be Normal Distributions\n",
    "HbA1c_level - The distribution is more likely to be Normal Distributions\n",
    "blood_glucose_level - The distribution is more likely to be Exponpow Distributions"
   ]
  },
  {
   "cell_type": "markdown",
   "id": "c5c8d96f-4196-4ed4-8523-01b000111c5b",
   "metadata": {},
   "source": [
    "## **Question 10 (For Numerical Data):-** What are the distributions of the predictor variables? \n",
    "\n",
    "**Answer 10:-** Here are the quick snapshots of the distribution of numerical data.\n"
   ]
  },
  {
   "cell_type": "code",
   "execution_count": 25,
   "id": "5d9d92da-4945-4c94-a6d6-458509d9fcac",
   "metadata": {},
   "outputs": [
    {
     "data": {
      "text/html": [
       "<div>\n",
       "<style scoped>\n",
       "    .dataframe tbody tr th:only-of-type {\n",
       "        vertical-align: middle;\n",
       "    }\n",
       "\n",
       "    .dataframe tbody tr th {\n",
       "        vertical-align: top;\n",
       "    }\n",
       "\n",
       "    .dataframe thead th {\n",
       "        text-align: right;\n",
       "    }\n",
       "</style>\n",
       "<table border=\"1\" class=\"dataframe\">\n",
       "  <thead>\n",
       "    <tr style=\"text-align: right;\">\n",
       "      <th></th>\n",
       "      <th>sumsquare_error</th>\n",
       "      <th>aic</th>\n",
       "      <th>bic</th>\n",
       "      <th>kl_div</th>\n",
       "      <th>ks_statistic</th>\n",
       "      <th>ks_pvalue</th>\n",
       "    </tr>\n",
       "  </thead>\n",
       "  <tbody>\n",
       "    <tr>\n",
       "      <th>uniform</th>\n",
       "      <td>0.007576</td>\n",
       "      <td>880.205227</td>\n",
       "      <td>898.784791</td>\n",
       "      <td>inf</td>\n",
       "      <td>0.055937</td>\n",
       "      <td>5.111239e-218</td>\n",
       "    </tr>\n",
       "    <tr>\n",
       "      <th>norm</th>\n",
       "      <td>0.008773</td>\n",
       "      <td>916.256095</td>\n",
       "      <td>934.835659</td>\n",
       "      <td>inf</td>\n",
       "      <td>0.045342</td>\n",
       "      <td>2.313355e-143</td>\n",
       "    </tr>\n",
       "    <tr>\n",
       "      <th>lognorm</th>\n",
       "      <td>0.008773</td>\n",
       "      <td>918.256116</td>\n",
       "      <td>946.125462</td>\n",
       "      <td>inf</td>\n",
       "      <td>0.045341</td>\n",
       "      <td>2.348354e-143</td>\n",
       "    </tr>\n",
       "    <tr>\n",
       "      <th>expon</th>\n",
       "      <td>0.012416</td>\n",
       "      <td>941.768147</td>\n",
       "      <td>960.347711</td>\n",
       "      <td>inf</td>\n",
       "      <td>0.190898</td>\n",
       "      <td>0.000000e+00</td>\n",
       "    </tr>\n",
       "    <tr>\n",
       "      <th>exponpow</th>\n",
       "      <td>0.045942</td>\n",
       "      <td>1342.640406</td>\n",
       "      <td>1370.509752</td>\n",
       "      <td>inf</td>\n",
       "      <td>0.795694</td>\n",
       "      <td>0.000000e+00</td>\n",
       "    </tr>\n",
       "  </tbody>\n",
       "</table>\n",
       "</div>"
      ],
      "text/plain": [
       "          sumsquare_error          aic          bic  kl_div  ks_statistic  \\\n",
       "uniform          0.007576   880.205227   898.784791     inf      0.055937   \n",
       "norm             0.008773   916.256095   934.835659     inf      0.045342   \n",
       "lognorm          0.008773   918.256116   946.125462     inf      0.045341   \n",
       "expon            0.012416   941.768147   960.347711     inf      0.190898   \n",
       "exponpow         0.045942  1342.640406  1370.509752     inf      0.795694   \n",
       "\n",
       "              ks_pvalue  \n",
       "uniform   5.111239e-218  \n",
       "norm      2.313355e-143  \n",
       "lognorm   2.348354e-143  \n",
       "expon      0.000000e+00  \n",
       "exponpow   0.000000e+00  "
      ]
     },
     "execution_count": 25,
     "metadata": {},
     "output_type": "execute_result"
    },
    {
     "data": {
      "image/png": "[encoded data removed]",
      "text/plain": [
       "<Figure size 640x480 with 1 Axes>"
      ]
     },
     "metadata": {},
     "output_type": "display_data"
    }
   ],
   "source": [
    "from fitter import Fitter\n",
    "\n",
    "# 提取age的数据 Extracting data from age\n",
    "age_data = train_df[\"age\"].values\n",
    "\n",
    "# 指定要尝试的分布列表  Specify the list of distributions to attempt\n",
    "distributions_to_try = ['exponpow', 'norm', 'uniform', 'expon', 'lognorm']\n",
    "\n",
    "# 使用Fitter拟合数据  Fitting the data using Fitter\n",
    "f = Fitter(age_data, distributions=distributions_to_try)\n",
    "f.fit()\n",
    "\n",
    "# 显示拟合结果  Show fit results\n",
    "f.summary()"
   ]
  },
  {
   "cell_type": "code",
   "execution_count": 26,
   "id": "5a9a5b68-e290-49a1-a03a-3f41bbe10473",
   "metadata": {},
   "outputs": [
    {
     "data": {
      "text/html": [
       "<div>\n",
       "<style scoped>\n",
       "    .dataframe tbody tr th:only-of-type {\n",
       "        vertical-align: middle;\n",
       "    }\n",
       "\n",
       "    .dataframe tbody tr th {\n",
       "        vertical-align: top;\n",
       "    }\n",
       "\n",
       "    .dataframe thead th {\n",
       "        text-align: right;\n",
       "    }\n",
       "</style>\n",
       "<table border=\"1\" class=\"dataframe\">\n",
       "  <thead>\n",
       "    <tr style=\"text-align: right;\">\n",
       "      <th></th>\n",
       "      <th>sumsquare_error</th>\n",
       "      <th>aic</th>\n",
       "      <th>bic</th>\n",
       "      <th>kl_div</th>\n",
       "      <th>ks_statistic</th>\n",
       "      <th>ks_pvalue</th>\n",
       "    </tr>\n",
       "  </thead>\n",
       "  <tbody>\n",
       "    <tr>\n",
       "      <th>lognorm</th>\n",
       "      <td>0.081729</td>\n",
       "      <td>1919.268231</td>\n",
       "      <td>1947.137577</td>\n",
       "      <td>inf</td>\n",
       "      <td>0.131297</td>\n",
       "      <td>0.0</td>\n",
       "    </tr>\n",
       "    <tr>\n",
       "      <th>norm</th>\n",
       "      <td>0.081772</td>\n",
       "      <td>3433.436583</td>\n",
       "      <td>3452.016147</td>\n",
       "      <td>inf</td>\n",
       "      <td>0.161158</td>\n",
       "      <td>0.0</td>\n",
       "    </tr>\n",
       "    <tr>\n",
       "      <th>exponpow</th>\n",
       "      <td>0.092748</td>\n",
       "      <td>8989.737859</td>\n",
       "      <td>9017.607205</td>\n",
       "      <td>inf</td>\n",
       "      <td>0.137183</td>\n",
       "      <td>0.0</td>\n",
       "    </tr>\n",
       "    <tr>\n",
       "      <th>expon</th>\n",
       "      <td>0.119112</td>\n",
       "      <td>1068.984364</td>\n",
       "      <td>1087.563928</td>\n",
       "      <td>inf</td>\n",
       "      <td>0.319586</td>\n",
       "      <td>0.0</td>\n",
       "    </tr>\n",
       "    <tr>\n",
       "      <th>uniform</th>\n",
       "      <td>0.124596</td>\n",
       "      <td>894.123885</td>\n",
       "      <td>912.703449</td>\n",
       "      <td>inf</td>\n",
       "      <td>0.608485</td>\n",
       "      <td>0.0</td>\n",
       "    </tr>\n",
       "  </tbody>\n",
       "</table>\n",
       "</div>"
      ],
      "text/plain": [
       "          sumsquare_error          aic          bic  kl_div  ks_statistic  \\\n",
       "lognorm          0.081729  1919.268231  1947.137577     inf      0.131297   \n",
       "norm             0.081772  3433.436583  3452.016147     inf      0.161158   \n",
       "exponpow         0.092748  8989.737859  9017.607205     inf      0.137183   \n",
       "expon            0.119112  1068.984364  1087.563928     inf      0.319586   \n",
       "uniform          0.124596   894.123885   912.703449     inf      0.608485   \n",
       "\n",
       "          ks_pvalue  \n",
       "lognorm         0.0  \n",
       "norm            0.0  \n",
       "exponpow        0.0  \n",
       "expon           0.0  \n",
       "uniform         0.0  "
      ]
     },
     "execution_count": 26,
     "metadata": {},
     "output_type": "execute_result"
    },
    {
     "data": {
      "image/png": "[encoded data removed]",
      "text/plain": [
       "<Figure size 640x480 with 1 Axes>"
      ]
     },
     "metadata": {},
     "output_type": "display_data"
    }
   ],
   "source": [
    "from fitter import Fitter\n",
    "\n",
    "bmi_data = train_df[\"bmi\"].values\n",
    "\n",
    "distributions_to_try = ['exponpow', 'norm', 'uniform', 'expon', 'lognorm']\n",
    "\n",
    "f = Fitter(bmi_data, distributions=distributions_to_try)\n",
    "f.fit()\n",
    "\n",
    "f.summary()"
   ]
  },
  {
   "cell_type": "code",
   "execution_count": 27,
   "id": "076055d9-7931-42f1-ac17-88df9bf50376",
   "metadata": {},
   "outputs": [
    {
     "data": {
      "text/html": [
       "<div>\n",
       "<style scoped>\n",
       "    .dataframe tbody tr th:only-of-type {\n",
       "        vertical-align: middle;\n",
       "    }\n",
       "\n",
       "    .dataframe tbody tr th {\n",
       "        vertical-align: top;\n",
       "    }\n",
       "\n",
       "    .dataframe thead th {\n",
       "        text-align: right;\n",
       "    }\n",
       "</style>\n",
       "<table border=\"1\" class=\"dataframe\">\n",
       "  <thead>\n",
       "    <tr style=\"text-align: right;\">\n",
       "      <th></th>\n",
       "      <th>sumsquare_error</th>\n",
       "      <th>aic</th>\n",
       "      <th>bic</th>\n",
       "      <th>kl_div</th>\n",
       "      <th>ks_statistic</th>\n",
       "      <th>ks_pvalue</th>\n",
       "    </tr>\n",
       "  </thead>\n",
       "  <tbody>\n",
       "    <tr>\n",
       "      <th>norm</th>\n",
       "      <td>20.795405</td>\n",
       "      <td>466.867389</td>\n",
       "      <td>485.446952</td>\n",
       "      <td>inf</td>\n",
       "      <td>0.185452</td>\n",
       "      <td>0.0</td>\n",
       "    </tr>\n",
       "    <tr>\n",
       "      <th>lognorm</th>\n",
       "      <td>20.795408</td>\n",
       "      <td>468.867098</td>\n",
       "      <td>496.736444</td>\n",
       "      <td>inf</td>\n",
       "      <td>0.185452</td>\n",
       "      <td>0.0</td>\n",
       "    </tr>\n",
       "    <tr>\n",
       "      <th>uniform</th>\n",
       "      <td>22.287050</td>\n",
       "      <td>344.949618</td>\n",
       "      <td>363.529182</td>\n",
       "      <td>inf</td>\n",
       "      <td>0.397364</td>\n",
       "      <td>0.0</td>\n",
       "    </tr>\n",
       "    <tr>\n",
       "      <th>expon</th>\n",
       "      <td>22.521909</td>\n",
       "      <td>416.503947</td>\n",
       "      <td>435.083511</td>\n",
       "      <td>inf</td>\n",
       "      <td>0.284171</td>\n",
       "      <td>0.0</td>\n",
       "    </tr>\n",
       "    <tr>\n",
       "      <th>exponpow</th>\n",
       "      <td>29.499421</td>\n",
       "      <td>595.309192</td>\n",
       "      <td>623.178538</td>\n",
       "      <td>inf</td>\n",
       "      <td>0.605988</td>\n",
       "      <td>0.0</td>\n",
       "    </tr>\n",
       "  </tbody>\n",
       "</table>\n",
       "</div>"
      ],
      "text/plain": [
       "          sumsquare_error         aic         bic  kl_div  ks_statistic  \\\n",
       "norm            20.795405  466.867389  485.446952     inf      0.185452   \n",
       "lognorm         20.795408  468.867098  496.736444     inf      0.185452   \n",
       "uniform         22.287050  344.949618  363.529182     inf      0.397364   \n",
       "expon           22.521909  416.503947  435.083511     inf      0.284171   \n",
       "exponpow        29.499421  595.309192  623.178538     inf      0.605988   \n",
       "\n",
       "          ks_pvalue  \n",
       "norm            0.0  \n",
       "lognorm         0.0  \n",
       "uniform         0.0  \n",
       "expon           0.0  \n",
       "exponpow        0.0  "
      ]
     },
     "execution_count": 27,
     "metadata": {},
     "output_type": "execute_result"
    },
    {
     "data": {
      "image/png": "[encoded data removed]",
      "text/plain": [
       "<Figure size 640x480 with 1 Axes>"
      ]
     },
     "metadata": {},
     "output_type": "display_data"
    }
   ],
   "source": [
    "from fitter import Fitter\n",
    "\n",
    "HbA1c_level_data = train_df[\"HbA1c_level\"].values\n",
    "\n",
    "distributions_to_try = ['exponpow', 'norm', 'uniform', 'expon', 'lognorm']\n",
    "\n",
    "f = Fitter(HbA1c_level_data, distributions=distributions_to_try)\n",
    "f.fit()\n",
    "\n",
    "f.summary()"
   ]
  },
  {
   "cell_type": "code",
   "execution_count": 28,
   "id": "7b35a871-4a50-416c-a6a4-43ffe736ee96",
   "metadata": {},
   "outputs": [
    {
     "data": {
      "text/html": [
       "<div>\n",
       "<style scoped>\n",
       "    .dataframe tbody tr th:only-of-type {\n",
       "        vertical-align: middle;\n",
       "    }\n",
       "\n",
       "    .dataframe tbody tr th {\n",
       "        vertical-align: top;\n",
       "    }\n",
       "\n",
       "    .dataframe thead th {\n",
       "        text-align: right;\n",
       "    }\n",
       "</style>\n",
       "<table border=\"1\" class=\"dataframe\">\n",
       "  <thead>\n",
       "    <tr style=\"text-align: right;\">\n",
       "      <th></th>\n",
       "      <th>sumsquare_error</th>\n",
       "      <th>aic</th>\n",
       "      <th>bic</th>\n",
       "      <th>kl_div</th>\n",
       "      <th>ks_statistic</th>\n",
       "      <th>ks_pvalue</th>\n",
       "    </tr>\n",
       "  </thead>\n",
       "  <tbody>\n",
       "    <tr>\n",
       "      <th>norm</th>\n",
       "      <td>0.013719</td>\n",
       "      <td>1333.644903</td>\n",
       "      <td>1352.224466</td>\n",
       "      <td>inf</td>\n",
       "      <td>0.186006</td>\n",
       "      <td>0.0</td>\n",
       "    </tr>\n",
       "    <tr>\n",
       "      <th>expon</th>\n",
       "      <td>0.013977</td>\n",
       "      <td>1195.265893</td>\n",
       "      <td>1213.845457</td>\n",
       "      <td>inf</td>\n",
       "      <td>0.265483</td>\n",
       "      <td>0.0</td>\n",
       "    </tr>\n",
       "    <tr>\n",
       "      <th>uniform</th>\n",
       "      <td>0.015086</td>\n",
       "      <td>1082.725509</td>\n",
       "      <td>1101.305073</td>\n",
       "      <td>inf</td>\n",
       "      <td>0.527039</td>\n",
       "      <td>0.0</td>\n",
       "    </tr>\n",
       "    <tr>\n",
       "      <th>lognorm</th>\n",
       "      <td>0.015175</td>\n",
       "      <td>1527.528858</td>\n",
       "      <td>1555.398204</td>\n",
       "      <td>inf</td>\n",
       "      <td>0.442809</td>\n",
       "      <td>0.0</td>\n",
       "    </tr>\n",
       "    <tr>\n",
       "      <th>exponpow</th>\n",
       "      <td>0.015509</td>\n",
       "      <td>1644.975721</td>\n",
       "      <td>1672.845067</td>\n",
       "      <td>inf</td>\n",
       "      <td>0.790992</td>\n",
       "      <td>0.0</td>\n",
       "    </tr>\n",
       "  </tbody>\n",
       "</table>\n",
       "</div>"
      ],
      "text/plain": [
       "          sumsquare_error          aic          bic  kl_div  ks_statistic  \\\n",
       "norm             0.013719  1333.644903  1352.224466     inf      0.186006   \n",
       "expon            0.013977  1195.265893  1213.845457     inf      0.265483   \n",
       "uniform          0.015086  1082.725509  1101.305073     inf      0.527039   \n",
       "lognorm          0.015175  1527.528858  1555.398204     inf      0.442809   \n",
       "exponpow         0.015509  1644.975721  1672.845067     inf      0.790992   \n",
       "\n",
       "          ks_pvalue  \n",
       "norm            0.0  \n",
       "expon           0.0  \n",
       "uniform         0.0  \n",
       "lognorm         0.0  \n",
       "exponpow        0.0  "
      ]
     },
     "execution_count": 28,
     "metadata": {},
     "output_type": "execute_result"
    },
    {
     "data": {
      "image/png": "[encoded data removed]",
      "text/plain": [
       "<Figure size 640x480 with 1 Axes>"
      ]
     },
     "metadata": {},
     "output_type": "display_data"
    }
   ],
   "source": [
    "from fitter import Fitter\n",
    "\n",
    "blood_glucose_level_data = train_df[\"blood_glucose_level\"].values\n",
    "\n",
    "distributions_to_try = ['exponpow', 'norm', 'uniform', 'expon', 'lognorm']\n",
    "\n",
    "f = Fitter(blood_glucose_level_data, distributions=distributions_to_try)\n",
    "f.fit()\n",
    "\n",
    "f.summary()"
   ]
  },
  {
   "cell_type": "markdown",
   "id": "e59f5814-ba44-4e30-8c37-53c63f95299d",
   "metadata": {},
   "source": [
    "## **Question 4 :-** Which independent variables are useful to predict a target (dependent variable)? (Use at least three methods)"
   ]
  },
  {
   "cell_type": "code",
   "execution_count": null,
   "id": "264faf03-3a98-414b-844d-07c572ae0d75",
   "metadata": {},
   "outputs": [],
   "source": [
    "data_encoded = pd.get_dummies(data, drop_first=True)  # 这里 drop_first 是为了避免多重共线性"
   ]
  },
  {
   "cell_type": "markdown",
   "id": "ff46c5a6-58c0-4495-96ac-8cfa1c1ef591",
   "metadata": {},
   "source": [
    "### 1.Correlation Analysis:"
   ]
  },
  {
   "cell_type": "code",
   "execution_count": 41,
   "id": "fdda6d93-b86e-4078-9caf-c804b82aa663",
   "metadata": {},
   "outputs": [
    {
     "name": "stdout",
     "output_type": "stream",
     "text": [
      "age                            0.258008\n",
      "hypertension                   0.197823\n",
      "heart_disease                  0.171727\n",
      "bmi                            0.214357\n",
      "HbA1c_level                    0.400660\n",
      "blood_glucose_level            0.419558\n",
      "diabetes                       1.000000\n",
      "gender_Male                    0.037666\n",
      "gender_Other                  -0.004090\n",
      "smoking_history_current        0.019606\n",
      "smoking_history_ever           0.024080\n",
      "smoking_history_former         0.097917\n",
      "smoking_history_never          0.027267\n",
      "smoking_history_not current    0.020734\n",
      "Name: diabetes, dtype: float64\n"
     ]
    }
   ],
   "source": [
    "correlation_matrix = data_encoded.corr()\n",
    "target_correlation = correlation_matrix[\"diabetes\"]\n",
    "print(target_correlation)"
   ]
  },
  {
   "cell_type": "markdown",
   "id": "7c58f18c-2736-440b-aadc-46d02a6a8d6c",
   "metadata": {},
   "source": [
    "### 2.Feature Importance from Tree-Based Models:"
   ]
  },
  {
   "cell_type": "code",
   "execution_count": 42,
   "id": "e149c7b8-6d81-47af-a41b-effeb9d622e3",
   "metadata": {},
   "outputs": [
    {
     "name": "stdout",
     "output_type": "stream",
     "text": [
      "age: 0.09974510756018132\n",
      "hypertension: 0.014349641287753354\n",
      "heart_disease: 0.010048480464363291\n",
      "bmi: 0.12310253404150165\n",
      "HbA1c_level: 0.39758687888909383\n",
      "blood_glucose_level: 0.33170636511032875\n",
      "gender_Male: 0.006087351370971563\n",
      "gender_Other: 4.403353328244093e-06\n",
      "smoking_history_current: 0.0032307241770066736\n",
      "smoking_history_ever: 0.0026322307976249454\n",
      "smoking_history_former: 0.004144167756412453\n",
      "smoking_history_never: 0.004620708452514532\n",
      "smoking_history_not current: 0.0027414067389195\n"
     ]
    }
   ],
   "source": [
    "from sklearn.ensemble import RandomForestClassifier\n",
    "\n",
    "rf = RandomForestClassifier()\n",
    "rf.fit(data_encoded.drop(\"diabetes\", axis=1), data_encoded[\"diabetes\"])\n",
    "feature_importances = rf.feature_importances_\n",
    "features = list(data_encoded.drop(\"diabetes\", axis=1).columns)\n",
    "for feature, importance in zip(features, feature_importances):\n",
    "    print(f\"{feature}: {importance}\")"
   ]
  },
  {
   "cell_type": "markdown",
   "id": "a92e8396-5d70-4e1f-b3e0-ee36f6e8f0cf",
   "metadata": {},
   "source": [
    "### 3.Recursive Feature Elimination (RFE):"
   ]
  },
  {
   "cell_type": "code",
   "execution_count": 46,
   "id": "c6cd0671-5dc4-4f47-a6f9-ab502ecd49bc",
   "metadata": {},
   "outputs": [
    {
     "name": "stdout",
     "output_type": "stream",
     "text": [
      "Num Features: 5\n",
      "Selected Features: [False  True  True False  True False False False False False  True False\n",
      "  True]\n",
      "Feature Ranking: [7 1 1 6 1 8 5 9 3 2 1 4 1]\n"
     ]
    }
   ],
   "source": [
    "from sklearn.feature_selection import RFE\n",
    "from sklearn.linear_model import LogisticRegression\n",
    "\n",
    "model = LogisticRegression(max_iter=10000)  # 增加 max_iter 以确保模型收敛\n",
    "rfe = RFE(estimator=model, n_features_to_select=5)  # 选择 5 个顶级特征\n",
    "fit = rfe.fit(data_encoded.drop(\"diabetes\", axis=1), data_encoded[\"diabetes\"])\n",
    "\n",
    "print(\"Num Features: %s\" % (fit.n_features_))\n",
    "print(\"Selected Features: %s\" % (fit.support_))\n",
    "print(\"Feature Ranking: %s\" % (fit.ranking_))\n"
   ]
  },
  {
   "cell_type": "markdown",
   "id": "2b921f0d-b988-4a5f-9097-d67218959c4e",
   "metadata": {},
   "source": [
    "## Answer:"
   ]
  },
  {
   "cell_type": "markdown",
   "id": "15fa6f08-16ea-49f8-84ea-577b5bff6681",
   "metadata": {},
   "source": [
    "HbA1c_level and blood_glucose_level were rated as highly relevant or important in all three methods. This suggests that they are critical in predicting the onset of diabetes."
   ]
  },
  {
   "cell_type": "markdown",
   "id": "12280bef-cbb6-4b77-a0ab-1ab57f71c638",
   "metadata": {},
   "source": [
    "## **Question 8 :-** Which predictor variables are the most important?"
   ]
  },
  {
   "cell_type": "markdown",
   "id": "65461ea3-21ae-4c04-a315-74d4335dbeb2",
   "metadata": {},
   "source": [
    "## Answer:\n",
    "In conclusion, based on the provided data and analyses, the most important predictors for diabetes seem to be blood_glucose_level, HbA1c_level, and age. However, bmi, hypertension, and heart_disease also play significant roles."
   ]
  },
  {
   "cell_type": "markdown",
   "id": "f715e52e-f827-4244-93dc-784081f9b26a",
   "metadata": {},
   "source": [
    "## **Question 7 :-** In the predictor variables independent of all the other predictor variables?"
   ]
  },
  {
   "cell_type": "code",
   "execution_count": 49,
   "id": "1d7334de-17f0-4333-b8d7-f4e5a9f58a2b",
   "metadata": {},
   "outputs": [
    {
     "name": "stdout",
     "output_type": "stream",
     "text": [
      "                          age  hypertension  heart_disease       bmi  \\\n",
      "age                  1.000000      0.251171       0.233354  0.337396   \n",
      "hypertension         0.251171      1.000000       0.121262  0.147666   \n",
      "heart_disease        0.233354      0.121262       1.000000  0.061198   \n",
      "bmi                  0.337396      0.147666       0.061198  1.000000   \n",
      "HbA1c_level          0.101354      0.080939       0.067589  0.082997   \n",
      "blood_glucose_level  0.110672      0.084429       0.070066  0.091261   \n",
      "diabetes             0.258008      0.197823       0.171727  0.214357   \n",
      "\n",
      "                     HbA1c_level  blood_glucose_level  diabetes  \n",
      "age                     0.101354             0.110672  0.258008  \n",
      "hypertension            0.080939             0.084429  0.197823  \n",
      "heart_disease           0.067589             0.070066  0.171727  \n",
      "bmi                     0.082997             0.091261  0.214357  \n",
      "HbA1c_level             1.000000             0.166733  0.400660  \n",
      "blood_glucose_level     0.166733             1.000000  0.419558  \n",
      "diabetes                0.400660             0.419558  1.000000  \n"
     ]
    }
   ],
   "source": [
    "#计算只含数值型数据的相关性\n",
    "numerical_data = data.select_dtypes(include=[np.number])\n",
    "correlation_matrix = numerical_data.corr()\n",
    "print(correlation_matrix)"
   ]
  },
  {
   "cell_type": "markdown",
   "id": "b40c3dba-07e0-4293-ada4-12e717b393a5",
   "metadata": {},
   "source": [
    "## Answer:\n",
    "They are not entirely independent. While no pair of predictor variables show very high correlation, certain pairs exhibit moderate correlation. For instance, the correlation between age and bmi is 0.337396, indicating a certain linear relationship between these two variables. Therefore, we cannot consider all predictor variables to be completely independent of each other."
   ]
  },
  {
   "cell_type": "markdown",
   "id": "f1f9d9ec-562b-404f-91e1-3d20f15a95d4",
   "metadata": {},
   "source": [
    " ## **Question 7 :-**  Remove outliers and keep outliers (does if have an effect of the final predictive model)?"
   ]
  },
  {
   "cell_type": "markdown",
   "id": "ee9efaa8-7875-4753-9b41-06f9646092e6",
   "metadata": {},
   "source": [
    "## Answer:"
   ]
  },
  {
   "cell_type": "markdown",
   "id": "981e3ba0-ffb5-44b6-acb7-2be609daa3a9",
   "metadata": {},
   "source": [
    "## 1. Removing Outliers:\n",
    "### Pros:\n",
    "Improved Accuracy: Outliers can skew the model by exerting undue influence on the learned relationship, especially in models like linear regression that are sensitive to outliers. Removing them can lead to a more accurate model.\n",
    "\n",
    "Better Interpretability: Without outliers, the relationships between variables can be clearer and more interpretable.\n",
    "\n",
    "Normalized Distribution: Certain algorithms assume that data is normally distributed. Removing outliers can help meet this assumption.\n",
    "\n",
    "### Cons:\n",
    "\n",
    "Loss of Information: By removing outliers, we might lose important information. Sometimes, these outliers can represent significant phenomena or situations.\n",
    "\n",
    "Time-Consuming: Detecting and handling outliers can add complexity and time to the data preprocessing stage.\n",
    "\n",
    "Potential Overfitting: If outliers are removed based on their effect on a specific model, the cleaned data may lead to overfitting for other models.\n",
    "\n",
    "## 2. Keeping Outliers:\n",
    "### Pros:\n",
    "\n",
    "Full Data Utilization: Retaining all data points ensures we're using all available information.\n",
    "\n",
    "Capture Rare Events: In some contexts (like fraud detection), what appears to be an outlier might be a significant rare event worth capturing.\n",
    "\n",
    "### Cons:\n",
    "\n",
    "Reduced Accuracy: For models sensitive to outliers, keeping them can lead to reduced accuracy.\n",
    "\n",
    "Skewed Distributions: Outliers can skew the distribution of the data, which can be problematic for algorithms that make assumptions about the data's distribution.\n",
    "\n",
    "Misleading Interpretations: If outliers exert undue influence on the model, they can lead to misleading interpretations about the relationships in the data.\n",
    "\n",
    "## Does It Affect the Final Predictive Model?\n",
    "Yes, it does. The decision to remove or retain outliers can affect the final predictive model in terms of accuracy, interpretability, and robustness."
   ]
  },
  {
   "cell_type": "markdown",
   "id": "22041631-cc31-43ed-b321-8f2ddb5ce2cb",
   "metadata": {},
   "source": [
    " ## **Question 12 :-**。Remove 1%, 5%, and 10% of your data randomly and impute the values back using at least 3 imputation methods. How well did the methods recover the missing values?  That is remove some data, check the % error on residuals for numeric data and check for bias and variance of the error"
   ]
  },
  {
   "cell_type": "code",
   "execution_count": 62,
   "id": "43c3c558-3aee-4d74-88df-8e991e3f606a",
   "metadata": {},
   "outputs": [
    {
     "name": "stdout",
     "output_type": "stream",
     "text": [
      "Requirement already satisfied: scikit-learn in /usr/local/lib/python3.11/site-packages (1.3.1)\n",
      "Collecting fancyimpute\n",
      "  Using cached fancyimpute-0.7.0-py3-none-any.whl\n",
      "Requirement already satisfied: numpy<2.0,>=1.17.3 in /usr/local/lib/python3.11/site-packages (from scikit-learn) (1.24.3)\n",
      "Requirement already satisfied: scipy>=1.5.0 in /usr/local/lib/python3.11/site-packages (from scikit-learn) (1.11.2)\n",
      "Requirement already satisfied: joblib>=1.1.1 in /usr/local/lib/python3.11/site-packages (from scikit-learn) (1.3.2)\n",
      "Requirement already satisfied: threadpoolctl>=2.0.0 in /usr/local/lib/python3.11/site-packages (from scikit-learn) (3.2.0)\n",
      "Collecting knnimpute>=0.1.0 (from fancyimpute)\n",
      "  Using cached knnimpute-0.1.0-py3-none-any.whl\n",
      "Collecting cvxpy (from fancyimpute)\n",
      "  Obtaining dependency information for cvxpy from https://files.pythonhosted.org/packages/e7/07/017213b0be2a99a05102d4a61752e414611d4f951b81e3ce18fe3fbbb51b/cvxpy-1.3.2-cp311-cp311-macosx_10_9_x86_64.whl.metadata\n",
      "  Using cached cvxpy-1.3.2-cp311-cp311-macosx_10_9_x86_64.whl.metadata (8.7 kB)\n",
      "Collecting cvxopt (from fancyimpute)\n",
      "  Obtaining dependency information for cvxopt from https://files.pythonhosted.org/packages/c1/43/f626c353802fb5ed37a087a0e41ad92246a1e1189869d47865853a980927/cvxopt-1.3.2-cp311-cp311-macosx_10_9_x86_64.whl.metadata\n",
      "  Using cached cvxopt-1.3.2-cp311-cp311-macosx_10_9_x86_64.whl.metadata (1.3 kB)\n",
      "Collecting pytest (from fancyimpute)\n",
      "  Obtaining dependency information for pytest from https://files.pythonhosted.org/packages/df/d0/e192c4275aecabf74faa1aacd75ef700091913236ec78b1a98f62a2412ee/pytest-7.4.2-py3-none-any.whl.metadata\n",
      "  Using cached pytest-7.4.2-py3-none-any.whl.metadata (7.9 kB)\n",
      "Requirement already satisfied: nose in /usr/local/lib/python3.11/site-packages (from fancyimpute) (1.3.7)\n",
      "Requirement already satisfied: six in /usr/local/lib/python3.11/site-packages (from knnimpute>=0.1.0->fancyimpute) (1.16.0)\n",
      "Collecting osqp>=0.4.1 (from cvxpy->fancyimpute)\n",
      "  Obtaining dependency information for osqp>=0.4.1 from https://files.pythonhosted.org/packages/9a/08/bd3cacf6b99d639f99b276219553e74f8f800888ec0e01a39cb0ca22f0f1/osqp-0.6.3-cp311-cp311-macosx_10_9_x86_64.whl.metadata\n",
      "  Using cached osqp-0.6.3-cp311-cp311-macosx_10_9_x86_64.whl.metadata (1.7 kB)\n",
      "Collecting ecos>=2 (from cvxpy->fancyimpute)\n",
      "  Using cached ecos-2.0.12-cp311-cp311-macosx_10_9_x86_64.whl (90 kB)\n",
      "Collecting scs>=1.1.6 (from cvxpy->fancyimpute)\n",
      "  Using cached scs-3.2.3-cp311-cp311-macosx_10_9_x86_64.whl (11.6 MB)\n",
      "Requirement already satisfied: setuptools>65.5.1 in /usr/local/lib/python3.11/site-packages (from cvxpy->fancyimpute) (68.1.2)\n",
      "Collecting iniconfig (from pytest->fancyimpute)\n",
      "  Using cached iniconfig-2.0.0-py3-none-any.whl (5.9 kB)\n",
      "Requirement already satisfied: packaging in /usr/local/lib/python3.11/site-packages (from pytest->fancyimpute) (23.1)\n",
      "Collecting pluggy<2.0,>=0.12 (from pytest->fancyimpute)\n",
      "  Obtaining dependency information for pluggy<2.0,>=0.12 from https://files.pythonhosted.org/packages/05/b8/42ed91898d4784546c5f06c60506400548db3f7a4b3fb441cba4e5c17952/pluggy-1.3.0-py3-none-any.whl.metadata\n",
      "  Using cached pluggy-1.3.0-py3-none-any.whl.metadata (4.3 kB)\n",
      "Collecting qdldl (from osqp>=0.4.1->cvxpy->fancyimpute)\n",
      "  Obtaining dependency information for qdldl from https://files.pythonhosted.org/packages/85/44/8821dc9d8b62fac20430f98c379856f9008388eebecbe6dd16a08231b030/qdldl-0.1.7.post0-cp311-cp311-macosx_10_9_x86_64.whl.metadata\n",
      "  Using cached qdldl-0.1.7.post0-cp311-cp311-macosx_10_9_x86_64.whl.metadata (1.7 kB)\n",
      "Using cached cvxopt-1.3.2-cp311-cp311-macosx_10_9_x86_64.whl (13.8 MB)\n",
      "Using cached cvxpy-1.3.2-cp311-cp311-macosx_10_9_x86_64.whl (936 kB)\n",
      "Using cached pytest-7.4.2-py3-none-any.whl (324 kB)\n",
      "Using cached osqp-0.6.3-cp311-cp311-macosx_10_9_x86_64.whl (252 kB)\n",
      "Using cached pluggy-1.3.0-py3-none-any.whl (18 kB)\n",
      "Using cached qdldl-0.1.7.post0-cp311-cp311-macosx_10_9_x86_64.whl (105 kB)\n",
      "Installing collected packages: pluggy, knnimpute, iniconfig, cvxopt, scs, qdldl, pytest, ecos, osqp, cvxpy, fancyimpute\n",
      "Successfully installed cvxopt-1.3.2 cvxpy-1.3.2 ecos-2.0.12 fancyimpute-0.7.0 iniconfig-2.0.0 knnimpute-0.1.0 osqp-0.6.3 pluggy-1.3.0 pytest-7.4.2 qdldl-0.1.7.post0 scs-3.2.3\n",
      "Note: you may need to restart the kernel to use updated packages.\n"
     ]
    }
   ],
   "source": [
    "pip install scikit-learn fancyimpute"
   ]
  },
  {
   "cell_type": "code",
   "execution_count": 100,
   "id": "0e97d6bc-629c-4dc1-af9d-78d75603ef29",
   "metadata": {},
   "outputs": [
    {
     "name": "stdout",
     "output_type": "stream",
     "text": [
      "Missing Values after Simulation:\n",
      "A    1000\n",
      "B    1000\n",
      "C       0\n",
      "dtype: int64\n"
     ]
    }
   ],
   "source": [
    "import numpy as np\n",
    "import pandas as pd\n",
    "import random\n",
    "\n",
    "# 模拟数据集\n",
    "np.random.seed(0)\n",
    "data = pd.DataFrame({\n",
    "    'A': np.random.randn(10000),\n",
    "    'B': np.random.randint(1, 5, 10000),\n",
    "    'C': np.random.choice(['x', 'y', 'z'], 10000)\n",
    "})\n",
    "\n",
    "# 在数据集中模拟缺失值\n",
    "data_with_na = data.copy()\n",
    "columns_to_modify = ['A', 'B']\n",
    "\n",
    "for col in columns_to_modify:\n",
    "    # 生成随机的行索引\n",
    "    missing_rows = random.sample(range(data_with_na.shape[0]), int(round(0.1 * data_with_na.shape[0])))\n",
    "    data_with_na.loc[missing_rows, col] = np.nan\n",
    "\n",
    "# 打印模拟缺失值后的数据集缺失统计\n",
    "print(\"Missing Values after Simulation:\")\n",
    "print(data_with_na.isnull().sum())\n"
   ]
  },
  {
   "cell_type": "code",
   "execution_count": 104,
   "id": "3ceb5e2f-3d28-48dc-80ab-ff98553dab20",
   "metadata": {},
   "outputs": [
    {
     "name": "stdout",
     "output_type": "stream",
     "text": [
      "Residual Errors for A with 1.0% missing data:\n",
      "Mean Imputation: 0.008455384411752186\n",
      "KNN Imputation: 0.008455384411752186\n",
      "Iterative Imputation: 0.008455384411752186\n",
      "\n",
      "\n",
      "Residual Errors for B with 1.0% missing data:\n",
      "Mean Imputation: 0.013825780532598713\n",
      "KNN Imputation: 0.013825780532598713\n",
      "Iterative Imputation: 0.013825780532598713\n",
      "\n",
      "\n",
      "Residual Errors for A with 5.0% missing data:\n",
      "Mean Imputation: 0.046547581158183665\n",
      "KNN Imputation: 0.046547581158183665\n",
      "Iterative Imputation: 0.046547581158183665\n",
      "\n",
      "\n",
      "Residual Errors for B with 5.0% missing data:\n",
      "Mean Imputation: 0.059096709141274247\n",
      "KNN Imputation: 0.059096709141274247\n",
      "Iterative Imputation: 0.059096709141274247\n",
      "\n",
      "\n",
      "Residual Errors for A with 10.0% missing data:\n",
      "Mean Imputation: 0.09228539956997862\n",
      "KNN Imputation: 0.09228539956997862\n",
      "Iterative Imputation: 0.09228539956997862\n",
      "\n",
      "\n",
      "Residual Errors for B with 10.0% missing data:\n",
      "Mean Imputation: 0.13024636419753088\n",
      "KNN Imputation: 0.13024636419753088\n",
      "Iterative Imputation: 0.13024636419753088\n",
      "\n",
      "\n"
     ]
    }
   ],
   "source": [
    "from sklearn.impute import SimpleImputer, KNNImputer\n",
    "from sklearn.experimental import enable_iterative_imputer\n",
    "from sklearn.impute import IterativeImputer\n",
    "\n",
    "def calculate_residual_error(original_data, imputed_data, col):\n",
    "    return np.mean((original_data[col] - imputed_data[col]) ** 2)\n",
    "\n",
    "def impute_and_evaluate(data, fraction, col):\n",
    "    # 随机移除数据\n",
    "    missing_rows = random.sample(range(data.shape[0]), int(round(fraction * data.shape[0])))\n",
    "    data_with_na = data.copy()\n",
    "    data_with_na.loc[missing_rows, col] = np.nan\n",
    "\n",
    "    # 三种插补方法\n",
    "    methods = {\n",
    "        'Mean Imputation': SimpleImputer(strategy='mean'),\n",
    "        'KNN Imputation': KNNImputer(n_neighbors=5),\n",
    "        'Iterative Imputation': IterativeImputer(random_state=0)\n",
    "    }\n",
    "\n",
    "    errors = {}\n",
    "    for method_name, imputer in methods.items():\n",
    "        data_imputed = data_with_na.copy()\n",
    "        data_imputed[[col]] = imputer.fit_transform(data_with_na[[col]])\n",
    "        error = calculate_residual_error(data, data_imputed, col)\n",
    "        errors[method_name] = error\n",
    "\n",
    "    return errors\n",
    "\n",
    "# 使用上述功能对'A'列和'B'列进行插补，并评估错误\n",
    "fractions = [0.01, 0.05, 0.1]\n",
    "columns_to_modify = ['A', 'B']\n",
    "\n",
    "for fraction in fractions:\n",
    "    for col in columns_to_modify:\n",
    "        errors = impute_and_evaluate(data, fraction, col)\n",
    "        print(f\"Residual Errors for {col} with {fraction*100}% missing data:\")\n",
    "        for method, error in errors.items():\n",
    "            print(f\"{method}: {error}\")\n",
    "        print(\"\\n\")\n",
    "\n"
   ]
  },
  {
   "cell_type": "markdown",
   "id": "227e521f-27e8-4436-932f-26450f99f7b3",
   "metadata": {},
   "source": [
    " ## **Question 12 :-**。Remove 1%, 5%, and 10% of your data randomly and impute the values back using at least 3 imputation methods. How well did the methods recover the missing values?  That is remove some data, check the % error on residuals for numeric data and check for bias and variance of the error"
   ]
  },
  {
   "cell_type": "markdown",
   "id": "70333045-3298-4678-825b-03ab1401a076",
   "metadata": {},
   "source": [
    "This is the % residual error (bias and variance) for all 3 methods and 3 datasets We can conclude that KNN interpolation is best suited for interpolating data on my dataset."
   ]
  }
 ],
 "metadata": {
  "kernelspec": {
   "display_name": "Python 3 (ipykernel)",
   "language": "python",
   "name": "python3"
  },
  "language_info": {
   "codemirror_mode": {
    "name": "ipython",
    "version": 3
   },
   "file_extension": ".py",
   "mimetype": "text/x-python",
   "name": "python",
   "nbconvert_exporter": "python",
   "pygments_lexer": "ipython3",
   "version": "3.9.6"
  }
 },
 "nbformat": 4,
 "nbformat_minor": 5
}
